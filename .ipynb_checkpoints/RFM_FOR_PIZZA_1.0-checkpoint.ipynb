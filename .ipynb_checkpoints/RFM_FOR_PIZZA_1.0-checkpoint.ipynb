{
 "cells": [
  {
   "cell_type": "markdown",
   "metadata": {},
   "source": [
    "# RFM on a Fast Food Dataset Example "
   ]
  },
  {
   "cell_type": "markdown",
   "metadata": {},
   "source": [
    "This Python file has been developed to show how a RFM algorithm is applied on a dataset to detect different types of customers."
   ]
  },
  {
   "cell_type": "code",
   "execution_count": 73,
   "metadata": {},
   "outputs": [],
   "source": [
    "import pandas as pd\n",
    "import datetime as dt\n",
    "import matplotlib.pyplot as plt \n",
    "%matplotlib inline"
   ]
  },
  {
   "cell_type": "code",
   "execution_count": 74,
   "metadata": {},
   "outputs": [],
   "source": [
    "# from pandas import Series, DataFrame \n",
    "import numpy as np #NumPy es el paquete fundamental para la informática científica con Python.\n"
   ]
  },
  {
   "cell_type": "code",
   "execution_count": 75,
   "metadata": {},
   "outputs": [],
   "source": [
    "df = pd.read_csv('RFM_Pizzas_good.csv', sep = ';', error_bad_lines = False)"
   ]
  },
  {
   "cell_type": "code",
   "execution_count": 76,
   "metadata": {},
   "outputs": [
    {
     "data": {
      "text/html": [
       "<div>\n",
       "<style scoped>\n",
       "    .dataframe tbody tr th:only-of-type {\n",
       "        vertical-align: middle;\n",
       "    }\n",
       "\n",
       "    .dataframe tbody tr th {\n",
       "        vertical-align: top;\n",
       "    }\n",
       "\n",
       "    .dataframe thead th {\n",
       "        text-align: right;\n",
       "    }\n",
       "</style>\n",
       "<table border=\"1\" class=\"dataframe\">\n",
       "  <thead>\n",
       "    <tr style=\"text-align: right;\">\n",
       "      <th></th>\n",
       "      <th>CUSTOMER</th>\n",
       "      <th>TRADE_DATE</th>\n",
       "      <th>COUNTRY</th>\n",
       "      <th>AMOUNT</th>\n",
       "    </tr>\n",
       "  </thead>\n",
       "  <tbody>\n",
       "    <tr>\n",
       "      <th>60651</th>\n",
       "      <td>119412</td>\n",
       "      <td>2019-02-26 00:00:00.000</td>\n",
       "      <td>Austria</td>\n",
       "      <td>1,80769E+15</td>\n",
       "    </tr>\n",
       "    <tr>\n",
       "      <th>60652</th>\n",
       "      <td>127572</td>\n",
       "      <td>2019-05-10 00:00:00.000</td>\n",
       "      <td>United States</td>\n",
       "      <td>2,14317E+15</td>\n",
       "    </tr>\n",
       "    <tr>\n",
       "      <th>60653</th>\n",
       "      <td>119361</td>\n",
       "      <td>2019-02-27 00:00:00.000</td>\n",
       "      <td>Italy</td>\n",
       "      <td>2,25003E+15</td>\n",
       "    </tr>\n",
       "    <tr>\n",
       "      <th>60654</th>\n",
       "      <td>115230</td>\n",
       "      <td>2019-02-14 00:00:00.000</td>\n",
       "      <td>Italy</td>\n",
       "      <td>2,95899E+15</td>\n",
       "    </tr>\n",
       "    <tr>\n",
       "      <th>60655</th>\n",
       "      <td>129729</td>\n",
       "      <td>2019-06-13 00:00:00.000</td>\n",
       "      <td>United States</td>\n",
       "      <td>3,20728E+15</td>\n",
       "    </tr>\n",
       "  </tbody>\n",
       "</table>\n",
       "</div>"
      ],
      "text/plain": [
       "       CUSTOMER               TRADE_DATE        COUNTRY       AMOUNT\n",
       "60651    119412  2019-02-26 00:00:00.000        Austria  1,80769E+15\n",
       "60652    127572  2019-05-10 00:00:00.000  United States  2,14317E+15\n",
       "60653    119361  2019-02-27 00:00:00.000          Italy  2,25003E+15\n",
       "60654    115230  2019-02-14 00:00:00.000          Italy  2,95899E+15\n",
       "60655    129729  2019-06-13 00:00:00.000  United States  3,20728E+15"
      ]
     },
     "execution_count": 76,
     "metadata": {},
     "output_type": "execute_result"
    }
   ],
   "source": [
    "df.tail()"
   ]
  },
  {
   "cell_type": "code",
   "execution_count": 77,
   "metadata": {},
   "outputs": [],
   "source": [
    "df.columns = map(str.upper, df.columns)"
   ]
  },
  {
   "cell_type": "code",
   "execution_count": 78,
   "metadata": {},
   "outputs": [
    {
     "name": "stdout",
     "output_type": "stream",
     "text": [
      "CUSTOMER       int64\n",
      "TRADE_DATE    object\n",
      "COUNTRY       object\n",
      "AMOUNT        object\n",
      "dtype: object\n"
     ]
    },
    {
     "data": {
      "text/html": [
       "<div>\n",
       "<style scoped>\n",
       "    .dataframe tbody tr th:only-of-type {\n",
       "        vertical-align: middle;\n",
       "    }\n",
       "\n",
       "    .dataframe tbody tr th {\n",
       "        vertical-align: top;\n",
       "    }\n",
       "\n",
       "    .dataframe thead th {\n",
       "        text-align: right;\n",
       "    }\n",
       "</style>\n",
       "<table border=\"1\" class=\"dataframe\">\n",
       "  <thead>\n",
       "    <tr style=\"text-align: right;\">\n",
       "      <th></th>\n",
       "      <th>CUSTOMER</th>\n",
       "    </tr>\n",
       "  </thead>\n",
       "  <tbody>\n",
       "    <tr>\n",
       "      <th>count</th>\n",
       "      <td>60656.000000</td>\n",
       "    </tr>\n",
       "    <tr>\n",
       "      <th>mean</th>\n",
       "      <td>73388.013733</td>\n",
       "    </tr>\n",
       "    <tr>\n",
       "      <th>std</th>\n",
       "      <td>37928.036162</td>\n",
       "    </tr>\n",
       "    <tr>\n",
       "      <th>min</th>\n",
       "      <td>10869.000000</td>\n",
       "    </tr>\n",
       "    <tr>\n",
       "      <th>25%</th>\n",
       "      <td>36819.000000</td>\n",
       "    </tr>\n",
       "    <tr>\n",
       "      <th>50%</th>\n",
       "      <td>74124.000000</td>\n",
       "    </tr>\n",
       "    <tr>\n",
       "      <th>75%</th>\n",
       "      <td>109746.750000</td>\n",
       "    </tr>\n",
       "    <tr>\n",
       "      <th>max</th>\n",
       "      <td>131142.000000</td>\n",
       "    </tr>\n",
       "  </tbody>\n",
       "</table>\n",
       "</div>"
      ],
      "text/plain": [
       "            CUSTOMER\n",
       "count   60656.000000\n",
       "mean    73388.013733\n",
       "std     37928.036162\n",
       "min     10869.000000\n",
       "25%     36819.000000\n",
       "50%     74124.000000\n",
       "75%    109746.750000\n",
       "max    131142.000000"
      ]
     },
     "execution_count": 78,
     "metadata": {},
     "output_type": "execute_result"
    }
   ],
   "source": [
    "print(df.dtypes)\n",
    "df.describe()\n"
   ]
  },
  {
   "cell_type": "code",
   "execution_count": 79,
   "metadata": {},
   "outputs": [
    {
     "data": {
      "text/plain": [
       "CUSTOMER       int64\n",
       "TRADE_DATE    object\n",
       "COUNTRY       object\n",
       "AMOUNT        object\n",
       "dtype: object"
      ]
     },
     "execution_count": 79,
     "metadata": {},
     "output_type": "execute_result"
    }
   ],
   "source": [
    "df.dtypes"
   ]
  },
  {
   "cell_type": "code",
   "execution_count": 80,
   "metadata": {},
   "outputs": [],
   "source": [
    "df['AMOUNT'] = [(float(k.replace(',','.'))) for k in df.AMOUNT]"
   ]
  },
  {
   "cell_type": "code",
   "execution_count": 81,
   "metadata": {},
   "outputs": [],
   "source": [
    "df['TRADE_ID'] = df.index"
   ]
  },
  {
   "cell_type": "code",
   "execution_count": 38,
   "metadata": {},
   "outputs": [],
   "source": [
    "# dt.datetime.now()"
   ]
  },
  {
   "cell_type": "code",
   "execution_count": 39,
   "metadata": {},
   "outputs": [],
   "source": [
    "# dt.datetime.strptime(k[0:10], '%Y-%m-%d')"
   ]
  },
  {
   "cell_type": "code",
   "execution_count": 82,
   "metadata": {},
   "outputs": [],
   "source": [
    "now = dt.datetime(2019,7,7)\n",
    "df['TRADE_DATE_SHORT'] = pd.to_datetime(df['TRADE_DATE'])"
   ]
  },
  {
   "cell_type": "code",
   "execution_count": 83,
   "metadata": {},
   "outputs": [
    {
     "data": {
      "text/html": [
       "<div>\n",
       "<style scoped>\n",
       "    .dataframe tbody tr th:only-of-type {\n",
       "        vertical-align: middle;\n",
       "    }\n",
       "\n",
       "    .dataframe tbody tr th {\n",
       "        vertical-align: top;\n",
       "    }\n",
       "\n",
       "    .dataframe thead th {\n",
       "        text-align: right;\n",
       "    }\n",
       "</style>\n",
       "<table border=\"1\" class=\"dataframe\">\n",
       "  <thead>\n",
       "    <tr style=\"text-align: right;\">\n",
       "      <th></th>\n",
       "      <th>CUSTOMER</th>\n",
       "      <th>TRADE_DATE</th>\n",
       "      <th>COUNTRY</th>\n",
       "      <th>AMOUNT</th>\n",
       "      <th>TRADE_ID</th>\n",
       "      <th>TRADE_DATE_SHORT</th>\n",
       "    </tr>\n",
       "  </thead>\n",
       "  <tbody>\n",
       "    <tr>\n",
       "      <th>60651</th>\n",
       "      <td>119412</td>\n",
       "      <td>2019-02-26 00:00:00.000</td>\n",
       "      <td>Austria</td>\n",
       "      <td>1.807690e+15</td>\n",
       "      <td>60651</td>\n",
       "      <td>2019-02-26</td>\n",
       "    </tr>\n",
       "    <tr>\n",
       "      <th>60652</th>\n",
       "      <td>127572</td>\n",
       "      <td>2019-05-10 00:00:00.000</td>\n",
       "      <td>United States</td>\n",
       "      <td>2.143170e+15</td>\n",
       "      <td>60652</td>\n",
       "      <td>2019-05-10</td>\n",
       "    </tr>\n",
       "    <tr>\n",
       "      <th>60653</th>\n",
       "      <td>119361</td>\n",
       "      <td>2019-02-27 00:00:00.000</td>\n",
       "      <td>Italy</td>\n",
       "      <td>2.250030e+15</td>\n",
       "      <td>60653</td>\n",
       "      <td>2019-02-27</td>\n",
       "    </tr>\n",
       "    <tr>\n",
       "      <th>60654</th>\n",
       "      <td>115230</td>\n",
       "      <td>2019-02-14 00:00:00.000</td>\n",
       "      <td>Italy</td>\n",
       "      <td>2.958990e+15</td>\n",
       "      <td>60654</td>\n",
       "      <td>2019-02-14</td>\n",
       "    </tr>\n",
       "    <tr>\n",
       "      <th>60655</th>\n",
       "      <td>129729</td>\n",
       "      <td>2019-06-13 00:00:00.000</td>\n",
       "      <td>United States</td>\n",
       "      <td>3.207280e+15</td>\n",
       "      <td>60655</td>\n",
       "      <td>2019-06-13</td>\n",
       "    </tr>\n",
       "  </tbody>\n",
       "</table>\n",
       "</div>"
      ],
      "text/plain": [
       "       CUSTOMER               TRADE_DATE        COUNTRY        AMOUNT  \\\n",
       "60651    119412  2019-02-26 00:00:00.000        Austria  1.807690e+15   \n",
       "60652    127572  2019-05-10 00:00:00.000  United States  2.143170e+15   \n",
       "60653    119361  2019-02-27 00:00:00.000          Italy  2.250030e+15   \n",
       "60654    115230  2019-02-14 00:00:00.000          Italy  2.958990e+15   \n",
       "60655    129729  2019-06-13 00:00:00.000  United States  3.207280e+15   \n",
       "\n",
       "       TRADE_ID TRADE_DATE_SHORT  \n",
       "60651     60651       2019-02-26  \n",
       "60652     60652       2019-05-10  \n",
       "60653     60653       2019-02-27  \n",
       "60654     60654       2019-02-14  \n",
       "60655     60655       2019-06-13  "
      ]
     },
     "execution_count": 83,
     "metadata": {},
     "output_type": "execute_result"
    }
   ],
   "source": [
    "df.tail()"
   ]
  },
  {
   "cell_type": "code",
   "execution_count": 84,
   "metadata": {},
   "outputs": [
    {
     "name": "stdout",
     "output_type": "stream",
     "text": [
      "CUSTOMER                     int64\n",
      "TRADE_DATE                  object\n",
      "COUNTRY                     object\n",
      "AMOUNT                     float64\n",
      "TRADE_ID                     int64\n",
      "TRADE_DATE_SHORT    datetime64[ns]\n",
      "dtype: object\n"
     ]
    },
    {
     "data": {
      "text/html": [
       "<div>\n",
       "<style scoped>\n",
       "    .dataframe tbody tr th:only-of-type {\n",
       "        vertical-align: middle;\n",
       "    }\n",
       "\n",
       "    .dataframe tbody tr th {\n",
       "        vertical-align: top;\n",
       "    }\n",
       "\n",
       "    .dataframe thead th {\n",
       "        text-align: right;\n",
       "    }\n",
       "</style>\n",
       "<table border=\"1\" class=\"dataframe\">\n",
       "  <thead>\n",
       "    <tr style=\"text-align: right;\">\n",
       "      <th></th>\n",
       "      <th>CUSTOMER</th>\n",
       "      <th>AMOUNT</th>\n",
       "      <th>TRADE_ID</th>\n",
       "    </tr>\n",
       "  </thead>\n",
       "  <tbody>\n",
       "    <tr>\n",
       "      <th>count</th>\n",
       "      <td>60656.000000</td>\n",
       "      <td>6.065600e+04</td>\n",
       "      <td>60656.000000</td>\n",
       "    </tr>\n",
       "    <tr>\n",
       "      <th>mean</th>\n",
       "      <td>73388.013733</td>\n",
       "      <td>2.812826e+11</td>\n",
       "      <td>30327.500000</td>\n",
       "    </tr>\n",
       "    <tr>\n",
       "      <th>std</th>\n",
       "      <td>37928.036162</td>\n",
       "      <td>2.487408e+13</td>\n",
       "      <td>17510.023301</td>\n",
       "    </tr>\n",
       "    <tr>\n",
       "      <th>min</th>\n",
       "      <td>10869.000000</td>\n",
       "      <td>1.000000e+00</td>\n",
       "      <td>0.000000</td>\n",
       "    </tr>\n",
       "    <tr>\n",
       "      <th>25%</th>\n",
       "      <td>36819.000000</td>\n",
       "      <td>2.870400e+01</td>\n",
       "      <td>15163.750000</td>\n",
       "    </tr>\n",
       "    <tr>\n",
       "      <th>50%</th>\n",
       "      <td>74124.000000</td>\n",
       "      <td>1.085522e+02</td>\n",
       "      <td>30327.500000</td>\n",
       "    </tr>\n",
       "    <tr>\n",
       "      <th>75%</th>\n",
       "      <td>109746.750000</td>\n",
       "      <td>5.179813e+02</td>\n",
       "      <td>45491.250000</td>\n",
       "    </tr>\n",
       "    <tr>\n",
       "      <th>max</th>\n",
       "      <td>131142.000000</td>\n",
       "      <td>3.207280e+15</td>\n",
       "      <td>60655.000000</td>\n",
       "    </tr>\n",
       "  </tbody>\n",
       "</table>\n",
       "</div>"
      ],
      "text/plain": [
       "            CUSTOMER        AMOUNT      TRADE_ID\n",
       "count   60656.000000  6.065600e+04  60656.000000\n",
       "mean    73388.013733  2.812826e+11  30327.500000\n",
       "std     37928.036162  2.487408e+13  17510.023301\n",
       "min     10869.000000  1.000000e+00      0.000000\n",
       "25%     36819.000000  2.870400e+01  15163.750000\n",
       "50%     74124.000000  1.085522e+02  30327.500000\n",
       "75%    109746.750000  5.179813e+02  45491.250000\n",
       "max    131142.000000  3.207280e+15  60655.000000"
      ]
     },
     "execution_count": 84,
     "metadata": {},
     "output_type": "execute_result"
    }
   ],
   "source": [
    "print(df.dtypes)\n",
    "df.describe()"
   ]
  },
  {
   "cell_type": "code",
   "execution_count": null,
   "metadata": {},
   "outputs": [],
   "source": []
  },
  {
   "cell_type": "code",
   "execution_count": 85,
   "metadata": {
    "scrolled": true
   },
   "outputs": [
    {
     "data": {
      "text/html": [
       "<div>\n",
       "<style scoped>\n",
       "    .dataframe tbody tr th:only-of-type {\n",
       "        vertical-align: middle;\n",
       "    }\n",
       "\n",
       "    .dataframe tbody tr th {\n",
       "        vertical-align: top;\n",
       "    }\n",
       "\n",
       "    .dataframe thead th {\n",
       "        text-align: right;\n",
       "    }\n",
       "</style>\n",
       "<table border=\"1\" class=\"dataframe\">\n",
       "  <thead>\n",
       "    <tr style=\"text-align: right;\">\n",
       "      <th></th>\n",
       "      <th>COUNTRY</th>\n",
       "      <th>CUSTOMER</th>\n",
       "    </tr>\n",
       "  </thead>\n",
       "  <tbody>\n",
       "    <tr>\n",
       "      <th>20</th>\n",
       "      <td>United States</td>\n",
       "      <td>3418</td>\n",
       "    </tr>\n",
       "    <tr>\n",
       "      <th>10</th>\n",
       "      <td>Italy</td>\n",
       "      <td>956</td>\n",
       "    </tr>\n",
       "    <tr>\n",
       "      <th>16</th>\n",
       "      <td>Spain</td>\n",
       "      <td>312</td>\n",
       "    </tr>\n",
       "    <tr>\n",
       "      <th>13</th>\n",
       "      <td>Poland</td>\n",
       "      <td>305</td>\n",
       "    </tr>\n",
       "    <tr>\n",
       "      <th>8</th>\n",
       "      <td>Greece</td>\n",
       "      <td>249</td>\n",
       "    </tr>\n",
       "    <tr>\n",
       "      <th>11</th>\n",
       "      <td>Mexico</td>\n",
       "      <td>45</td>\n",
       "    </tr>\n",
       "    <tr>\n",
       "      <th>7</th>\n",
       "      <td>Germany</td>\n",
       "      <td>31</td>\n",
       "    </tr>\n",
       "    <tr>\n",
       "      <th>21</th>\n",
       "      <td>Uruguay</td>\n",
       "      <td>20</td>\n",
       "    </tr>\n",
       "    <tr>\n",
       "      <th>15</th>\n",
       "      <td>Russia</td>\n",
       "      <td>15</td>\n",
       "    </tr>\n",
       "    <tr>\n",
       "      <th>12</th>\n",
       "      <td>Norway</td>\n",
       "      <td>11</td>\n",
       "    </tr>\n",
       "    <tr>\n",
       "      <th>6</th>\n",
       "      <td>France</td>\n",
       "      <td>9</td>\n",
       "    </tr>\n",
       "    <tr>\n",
       "      <th>19</th>\n",
       "      <td>United Kingdom</td>\n",
       "      <td>7</td>\n",
       "    </tr>\n",
       "    <tr>\n",
       "      <th>18</th>\n",
       "      <td>Switzerland</td>\n",
       "      <td>5</td>\n",
       "    </tr>\n",
       "    <tr>\n",
       "      <th>1</th>\n",
       "      <td>Austria</td>\n",
       "      <td>4</td>\n",
       "    </tr>\n",
       "    <tr>\n",
       "      <th>9</th>\n",
       "      <td>Ireland</td>\n",
       "      <td>3</td>\n",
       "    </tr>\n",
       "    <tr>\n",
       "      <th>5</th>\n",
       "      <td>Finland</td>\n",
       "      <td>3</td>\n",
       "    </tr>\n",
       "    <tr>\n",
       "      <th>17</th>\n",
       "      <td>Sweden</td>\n",
       "      <td>3</td>\n",
       "    </tr>\n",
       "    <tr>\n",
       "      <th>0</th>\n",
       "      <td>Argentina</td>\n",
       "      <td>3</td>\n",
       "    </tr>\n",
       "    <tr>\n",
       "      <th>4</th>\n",
       "      <td>Denmark</td>\n",
       "      <td>1</td>\n",
       "    </tr>\n",
       "    <tr>\n",
       "      <th>14</th>\n",
       "      <td>Portugal</td>\n",
       "      <td>1</td>\n",
       "    </tr>\n",
       "    <tr>\n",
       "      <th>3</th>\n",
       "      <td>Czech Replublic</td>\n",
       "      <td>1</td>\n",
       "    </tr>\n",
       "    <tr>\n",
       "      <th>2</th>\n",
       "      <td>Belgium</td>\n",
       "      <td>1</td>\n",
       "    </tr>\n",
       "  </tbody>\n",
       "</table>\n",
       "</div>"
      ],
      "text/plain": [
       "            COUNTRY  CUSTOMER\n",
       "20    United States      3418\n",
       "10            Italy       956\n",
       "16            Spain       312\n",
       "13           Poland       305\n",
       "8            Greece       249\n",
       "11           Mexico        45\n",
       "7           Germany        31\n",
       "21          Uruguay        20\n",
       "15           Russia        15\n",
       "12           Norway        11\n",
       "6            France         9\n",
       "19   United Kingdom         7\n",
       "18      Switzerland         5\n",
       "1           Austria         4\n",
       "9           Ireland         3\n",
       "5           Finland         3\n",
       "17           Sweden         3\n",
       "0         Argentina         3\n",
       "4           Denmark         1\n",
       "14         Portugal         1\n",
       "3   Czech Replublic         1\n",
       "2           Belgium         1"
      ]
     },
     "execution_count": 85,
     "metadata": {},
     "output_type": "execute_result"
    }
   ],
   "source": [
    "customer_country=df[['COUNTRY','CUSTOMER']].drop_duplicates()\n",
    "customer_country.groupby(['COUNTRY'])['CUSTOMER'].aggregate('count').reset_index().sort_values('CUSTOMER', ascending=False)"
   ]
  },
  {
   "cell_type": "code",
   "execution_count": 86,
   "metadata": {},
   "outputs": [],
   "source": [
    "df = df.loc[df['COUNTRY'] == 'United States']\n"
   ]
  },
  {
   "cell_type": "code",
   "execution_count": 87,
   "metadata": {},
   "outputs": [],
   "source": [
    "def toplot_importe_bruto(x,y):\n",
    "    max_importe = x\n",
    "    min_importe = y\n",
    "    plt.hist(df.AMOUNT[(df['AMOUNT']>x) & (df['AMOUNT']<y)], 1000)\n",
    "    plt.show()"
   ]
  },
  {
   "cell_type": "code",
   "execution_count": 88,
   "metadata": {},
   "outputs": [
    {
     "name": "stdout",
     "output_type": "stream",
     "text": [
      "43906\n",
      "count    4.390600e+04\n",
      "mean     2.287772e+11\n",
      "std      2.157923e+13\n",
      "min      1.000000e+00\n",
      "25%      2.531725e+01\n",
      "50%      1.000000e+02\n",
      "75%      5.000000e+02\n",
      "max      3.207280e+15\n",
      "Name: AMOUNT, dtype: float64\n"
     ]
    },
    {
     "data": {
      "image/png": "[encoded data removed]",
      "text/plain": [
       "<Figure size 432x288 with 1 Axes>"
      ]
     },
     "metadata": {
      "needs_background": "light"
     },
     "output_type": "display_data"
    },
    {
     "name": "stdout",
     "output_type": "stream",
     "text": [
      "36047\n",
      "count    36047.000000\n",
      "mean       163.975361\n",
      "std        214.090484\n",
      "min          1.000000\n",
      "25%         20.000000\n",
      "50%         77.460000\n",
      "75%        207.600000\n",
      "max       1000.000000\n",
      "Name: AMOUNT, dtype: float64\n"
     ]
    }
   ],
   "source": [
    "xmin = 0\n",
    "xmax = 1000\n",
    "print(len(df.AMOUNT))\n",
    "print(df.AMOUNT.describe())\n",
    "toplot_importe_bruto(xmin,xmax)\n",
    "print(len(df[(df['AMOUNT']>xmin) & (df['AMOUNT']<xmax)]))\n",
    "print(df.AMOUNT[(df['AMOUNT']>xmin) & (df['AMOUNT']<xmax)].describe())"
   ]
  },
  {
   "cell_type": "code",
   "execution_count": 89,
   "metadata": {},
   "outputs": [],
   "source": [
    "#OK a estos rangos para acotar los importes OUTLIERS\n",
    "df = df[(df['AMOUNT']>0) & (df['AMOUNT']<1000)]"
   ]
  },
  {
   "cell_type": "code",
   "execution_count": null,
   "metadata": {},
   "outputs": [],
   "source": []
  },
  {
   "cell_type": "code",
   "execution_count": null,
   "metadata": {},
   "outputs": [],
   "source": []
  },
  {
   "cell_type": "markdown",
   "metadata": {},
   "source": [
    "## Creating the RFM TABLE:\n"
   ]
  },
  {
   "cell_type": "code",
   "execution_count": 90,
   "metadata": {},
   "outputs": [
    {
     "data": {
      "text/html": [
       "<div>\n",
       "<style scoped>\n",
       "    .dataframe tbody tr th:only-of-type {\n",
       "        vertical-align: middle;\n",
       "    }\n",
       "\n",
       "    .dataframe tbody tr th {\n",
       "        vertical-align: top;\n",
       "    }\n",
       "\n",
       "    .dataframe thead th {\n",
       "        text-align: right;\n",
       "    }\n",
       "</style>\n",
       "<table border=\"1\" class=\"dataframe\">\n",
       "  <thead>\n",
       "    <tr style=\"text-align: right;\">\n",
       "      <th></th>\n",
       "      <th>CUSTOMER</th>\n",
       "      <th>TRADE_DATE</th>\n",
       "      <th>COUNTRY</th>\n",
       "      <th>AMOUNT</th>\n",
       "      <th>TRADE_ID</th>\n",
       "      <th>TRADE_DATE_SHORT</th>\n",
       "    </tr>\n",
       "  </thead>\n",
       "  <tbody>\n",
       "    <tr>\n",
       "      <th>0</th>\n",
       "      <td>13227</td>\n",
       "      <td>2018-08-03 00:00:00.000</td>\n",
       "      <td>United States</td>\n",
       "      <td>1.0</td>\n",
       "      <td>0</td>\n",
       "      <td>2018-08-03</td>\n",
       "    </tr>\n",
       "    <tr>\n",
       "      <th>1</th>\n",
       "      <td>13227</td>\n",
       "      <td>2018-08-31 00:00:00.000</td>\n",
       "      <td>United States</td>\n",
       "      <td>1.0</td>\n",
       "      <td>1</td>\n",
       "      <td>2018-08-31</td>\n",
       "    </tr>\n",
       "    <tr>\n",
       "      <th>2</th>\n",
       "      <td>13227</td>\n",
       "      <td>2018-10-04 00:00:00.000</td>\n",
       "      <td>United States</td>\n",
       "      <td>1.0</td>\n",
       "      <td>2</td>\n",
       "      <td>2018-10-04</td>\n",
       "    </tr>\n",
       "    <tr>\n",
       "      <th>3</th>\n",
       "      <td>13227</td>\n",
       "      <td>2018-10-08 00:00:00.000</td>\n",
       "      <td>United States</td>\n",
       "      <td>1.0</td>\n",
       "      <td>3</td>\n",
       "      <td>2018-10-08</td>\n",
       "    </tr>\n",
       "    <tr>\n",
       "      <th>4</th>\n",
       "      <td>13227</td>\n",
       "      <td>2018-11-06 00:00:00.000</td>\n",
       "      <td>United States</td>\n",
       "      <td>1.0</td>\n",
       "      <td>4</td>\n",
       "      <td>2018-11-06</td>\n",
       "    </tr>\n",
       "  </tbody>\n",
       "</table>\n",
       "</div>"
      ],
      "text/plain": [
       "   CUSTOMER               TRADE_DATE        COUNTRY  AMOUNT  TRADE_ID  \\\n",
       "0     13227  2018-08-03 00:00:00.000  United States     1.0         0   \n",
       "1     13227  2018-08-31 00:00:00.000  United States     1.0         1   \n",
       "2     13227  2018-10-04 00:00:00.000  United States     1.0         2   \n",
       "3     13227  2018-10-08 00:00:00.000  United States     1.0         3   \n",
       "4     13227  2018-11-06 00:00:00.000  United States     1.0         4   \n",
       "\n",
       "  TRADE_DATE_SHORT  \n",
       "0       2018-08-03  \n",
       "1       2018-08-31  \n",
       "2       2018-10-04  \n",
       "3       2018-10-08  \n",
       "4       2018-11-06  "
      ]
     },
     "execution_count": 90,
     "metadata": {},
     "output_type": "execute_result"
    }
   ],
   "source": [
    "df.head()"
   ]
  },
  {
   "cell_type": "code",
   "execution_count": 91,
   "metadata": {},
   "outputs": [
    {
     "data": {
      "text/html": [
       "<div>\n",
       "<style scoped>\n",
       "    .dataframe tbody tr th:only-of-type {\n",
       "        vertical-align: middle;\n",
       "    }\n",
       "\n",
       "    .dataframe tbody tr th {\n",
       "        vertical-align: top;\n",
       "    }\n",
       "\n",
       "    .dataframe thead th {\n",
       "        text-align: right;\n",
       "    }\n",
       "</style>\n",
       "<table border=\"1\" class=\"dataframe\">\n",
       "  <thead>\n",
       "    <tr style=\"text-align: right;\">\n",
       "      <th></th>\n",
       "      <th>TRADE_DATE_SHORT</th>\n",
       "      <th>TRADE_ID</th>\n",
       "      <th>AMOUNT</th>\n",
       "    </tr>\n",
       "    <tr>\n",
       "      <th>CUSTOMER</th>\n",
       "      <th></th>\n",
       "      <th></th>\n",
       "      <th></th>\n",
       "    </tr>\n",
       "  </thead>\n",
       "  <tbody>\n",
       "    <tr>\n",
       "      <th>10869</th>\n",
       "      <td>73</td>\n",
       "      <td>17</td>\n",
       "      <td>6876.551250</td>\n",
       "    </tr>\n",
       "    <tr>\n",
       "      <th>10872</th>\n",
       "      <td>86</td>\n",
       "      <td>19</td>\n",
       "      <td>7523.855620</td>\n",
       "    </tr>\n",
       "    <tr>\n",
       "      <th>10884</th>\n",
       "      <td>94</td>\n",
       "      <td>11</td>\n",
       "      <td>5002.217270</td>\n",
       "    </tr>\n",
       "    <tr>\n",
       "      <th>10887</th>\n",
       "      <td>47</td>\n",
       "      <td>19</td>\n",
       "      <td>5651.594660</td>\n",
       "    </tr>\n",
       "    <tr>\n",
       "      <th>10893</th>\n",
       "      <td>90</td>\n",
       "      <td>1</td>\n",
       "      <td>178.009070</td>\n",
       "    </tr>\n",
       "    <tr>\n",
       "      <th>10896</th>\n",
       "      <td>97</td>\n",
       "      <td>11</td>\n",
       "      <td>4586.569500</td>\n",
       "    </tr>\n",
       "    <tr>\n",
       "      <th>10905</th>\n",
       "      <td>45</td>\n",
       "      <td>23</td>\n",
       "      <td>6007.950000</td>\n",
       "    </tr>\n",
       "    <tr>\n",
       "      <th>10908</th>\n",
       "      <td>52</td>\n",
       "      <td>20</td>\n",
       "      <td>5802.324960</td>\n",
       "    </tr>\n",
       "    <tr>\n",
       "      <th>10938</th>\n",
       "      <td>38</td>\n",
       "      <td>59</td>\n",
       "      <td>17627.609200</td>\n",
       "    </tr>\n",
       "    <tr>\n",
       "      <th>10944</th>\n",
       "      <td>149</td>\n",
       "      <td>3</td>\n",
       "      <td>1447.554000</td>\n",
       "    </tr>\n",
       "    <tr>\n",
       "      <th>11229</th>\n",
       "      <td>39</td>\n",
       "      <td>36</td>\n",
       "      <td>12625.052020</td>\n",
       "    </tr>\n",
       "    <tr>\n",
       "      <th>11232</th>\n",
       "      <td>38</td>\n",
       "      <td>37</td>\n",
       "      <td>6497.309050</td>\n",
       "    </tr>\n",
       "    <tr>\n",
       "      <th>11238</th>\n",
       "      <td>74</td>\n",
       "      <td>15</td>\n",
       "      <td>5830.042070</td>\n",
       "    </tr>\n",
       "    <tr>\n",
       "      <th>11256</th>\n",
       "      <td>40</td>\n",
       "      <td>27</td>\n",
       "      <td>12860.945080</td>\n",
       "    </tr>\n",
       "    <tr>\n",
       "      <th>11301</th>\n",
       "      <td>62</td>\n",
       "      <td>13</td>\n",
       "      <td>3542.340790</td>\n",
       "    </tr>\n",
       "    <tr>\n",
       "      <th>11355</th>\n",
       "      <td>41</td>\n",
       "      <td>18</td>\n",
       "      <td>8338.449920</td>\n",
       "    </tr>\n",
       "    <tr>\n",
       "      <th>11430</th>\n",
       "      <td>80</td>\n",
       "      <td>8</td>\n",
       "      <td>2861.958000</td>\n",
       "    </tr>\n",
       "    <tr>\n",
       "      <th>11532</th>\n",
       "      <td>13</td>\n",
       "      <td>49</td>\n",
       "      <td>5061.199000</td>\n",
       "    </tr>\n",
       "    <tr>\n",
       "      <th>12198</th>\n",
       "      <td>93</td>\n",
       "      <td>8</td>\n",
       "      <td>999.204650</td>\n",
       "    </tr>\n",
       "    <tr>\n",
       "      <th>12252</th>\n",
       "      <td>83</td>\n",
       "      <td>5</td>\n",
       "      <td>2500.000000</td>\n",
       "    </tr>\n",
       "    <tr>\n",
       "      <th>12534</th>\n",
       "      <td>124</td>\n",
       "      <td>2</td>\n",
       "      <td>923.922000</td>\n",
       "    </tr>\n",
       "    <tr>\n",
       "      <th>12720</th>\n",
       "      <td>95</td>\n",
       "      <td>13</td>\n",
       "      <td>4443.680000</td>\n",
       "    </tr>\n",
       "    <tr>\n",
       "      <th>12729</th>\n",
       "      <td>54</td>\n",
       "      <td>44</td>\n",
       "      <td>14402.862330</td>\n",
       "    </tr>\n",
       "    <tr>\n",
       "      <th>12969</th>\n",
       "      <td>69</td>\n",
       "      <td>36</td>\n",
       "      <td>5273.826630</td>\n",
       "    </tr>\n",
       "    <tr>\n",
       "      <th>13227</th>\n",
       "      <td>68</td>\n",
       "      <td>102</td>\n",
       "      <td>1015.679000</td>\n",
       "    </tr>\n",
       "    <tr>\n",
       "      <th>13290</th>\n",
       "      <td>61</td>\n",
       "      <td>6</td>\n",
       "      <td>3964.647994</td>\n",
       "    </tr>\n",
       "    <tr>\n",
       "      <th>13449</th>\n",
       "      <td>200</td>\n",
       "      <td>2</td>\n",
       "      <td>965.244000</td>\n",
       "    </tr>\n",
       "    <tr>\n",
       "      <th>13893</th>\n",
       "      <td>96</td>\n",
       "      <td>11</td>\n",
       "      <td>2493.250770</td>\n",
       "    </tr>\n",
       "    <tr>\n",
       "      <th>14094</th>\n",
       "      <td>27</td>\n",
       "      <td>23</td>\n",
       "      <td>5408.332740</td>\n",
       "    </tr>\n",
       "    <tr>\n",
       "      <th>14235</th>\n",
       "      <td>178</td>\n",
       "      <td>13</td>\n",
       "      <td>1000.000000</td>\n",
       "    </tr>\n",
       "    <tr>\n",
       "      <th>...</th>\n",
       "      <td>...</td>\n",
       "      <td>...</td>\n",
       "      <td>...</td>\n",
       "    </tr>\n",
       "    <tr>\n",
       "      <th>130347</th>\n",
       "      <td>188</td>\n",
       "      <td>1</td>\n",
       "      <td>323.301000</td>\n",
       "    </tr>\n",
       "    <tr>\n",
       "      <th>130350</th>\n",
       "      <td>10</td>\n",
       "      <td>5</td>\n",
       "      <td>96.010000</td>\n",
       "    </tr>\n",
       "    <tr>\n",
       "      <th>130353</th>\n",
       "      <td>13</td>\n",
       "      <td>3</td>\n",
       "      <td>1290.830000</td>\n",
       "    </tr>\n",
       "    <tr>\n",
       "      <th>130389</th>\n",
       "      <td>16</td>\n",
       "      <td>5</td>\n",
       "      <td>180.934000</td>\n",
       "    </tr>\n",
       "    <tr>\n",
       "      <th>130392</th>\n",
       "      <td>16</td>\n",
       "      <td>3</td>\n",
       "      <td>290.061000</td>\n",
       "    </tr>\n",
       "    <tr>\n",
       "      <th>130404</th>\n",
       "      <td>16</td>\n",
       "      <td>2</td>\n",
       "      <td>480.000000</td>\n",
       "    </tr>\n",
       "    <tr>\n",
       "      <th>130407</th>\n",
       "      <td>13</td>\n",
       "      <td>7</td>\n",
       "      <td>1294.839000</td>\n",
       "    </tr>\n",
       "    <tr>\n",
       "      <th>130416</th>\n",
       "      <td>16</td>\n",
       "      <td>1</td>\n",
       "      <td>297.675000</td>\n",
       "    </tr>\n",
       "    <tr>\n",
       "      <th>130443</th>\n",
       "      <td>10</td>\n",
       "      <td>5</td>\n",
       "      <td>2839.496000</td>\n",
       "    </tr>\n",
       "    <tr>\n",
       "      <th>130449</th>\n",
       "      <td>17</td>\n",
       "      <td>1</td>\n",
       "      <td>400.005000</td>\n",
       "    </tr>\n",
       "    <tr>\n",
       "      <th>130458</th>\n",
       "      <td>32</td>\n",
       "      <td>15</td>\n",
       "      <td>739.950000</td>\n",
       "    </tr>\n",
       "    <tr>\n",
       "      <th>130575</th>\n",
       "      <td>12</td>\n",
       "      <td>7</td>\n",
       "      <td>100.000000</td>\n",
       "    </tr>\n",
       "    <tr>\n",
       "      <th>130590</th>\n",
       "      <td>12</td>\n",
       "      <td>1</td>\n",
       "      <td>380.133000</td>\n",
       "    </tr>\n",
       "    <tr>\n",
       "      <th>130653</th>\n",
       "      <td>11</td>\n",
       "      <td>1</td>\n",
       "      <td>157.584000</td>\n",
       "    </tr>\n",
       "    <tr>\n",
       "      <th>130668</th>\n",
       "      <td>11</td>\n",
       "      <td>5</td>\n",
       "      <td>240.440000</td>\n",
       "    </tr>\n",
       "    <tr>\n",
       "      <th>130674</th>\n",
       "      <td>11</td>\n",
       "      <td>2</td>\n",
       "      <td>122.610000</td>\n",
       "    </tr>\n",
       "    <tr>\n",
       "      <th>130776</th>\n",
       "      <td>10</td>\n",
       "      <td>2</td>\n",
       "      <td>98.999000</td>\n",
       "    </tr>\n",
       "    <tr>\n",
       "      <th>130803</th>\n",
       "      <td>9</td>\n",
       "      <td>1</td>\n",
       "      <td>100.000000</td>\n",
       "    </tr>\n",
       "    <tr>\n",
       "      <th>130806</th>\n",
       "      <td>9</td>\n",
       "      <td>1</td>\n",
       "      <td>1.507000</td>\n",
       "    </tr>\n",
       "    <tr>\n",
       "      <th>130887</th>\n",
       "      <td>9</td>\n",
       "      <td>2</td>\n",
       "      <td>200.000000</td>\n",
       "    </tr>\n",
       "    <tr>\n",
       "      <th>130905</th>\n",
       "      <td>9</td>\n",
       "      <td>1</td>\n",
       "      <td>25.180000</td>\n",
       "    </tr>\n",
       "    <tr>\n",
       "      <th>131001</th>\n",
       "      <td>37</td>\n",
       "      <td>3</td>\n",
       "      <td>298.319000</td>\n",
       "    </tr>\n",
       "    <tr>\n",
       "      <th>131019</th>\n",
       "      <td>23</td>\n",
       "      <td>15</td>\n",
       "      <td>10400.831000</td>\n",
       "    </tr>\n",
       "    <tr>\n",
       "      <th>131028</th>\n",
       "      <td>9</td>\n",
       "      <td>4</td>\n",
       "      <td>3979.512000</td>\n",
       "    </tr>\n",
       "    <tr>\n",
       "      <th>131052</th>\n",
       "      <td>6</td>\n",
       "      <td>4</td>\n",
       "      <td>1500.000000</td>\n",
       "    </tr>\n",
       "    <tr>\n",
       "      <th>131070</th>\n",
       "      <td>6</td>\n",
       "      <td>4</td>\n",
       "      <td>213.322000</td>\n",
       "    </tr>\n",
       "    <tr>\n",
       "      <th>131109</th>\n",
       "      <td>5</td>\n",
       "      <td>5</td>\n",
       "      <td>1500.000000</td>\n",
       "    </tr>\n",
       "    <tr>\n",
       "      <th>131115</th>\n",
       "      <td>23</td>\n",
       "      <td>1</td>\n",
       "      <td>300.300000</td>\n",
       "    </tr>\n",
       "    <tr>\n",
       "      <th>131118</th>\n",
       "      <td>6</td>\n",
       "      <td>3</td>\n",
       "      <td>744.271000</td>\n",
       "    </tr>\n",
       "    <tr>\n",
       "      <th>131142</th>\n",
       "      <td>5</td>\n",
       "      <td>1</td>\n",
       "      <td>13.275000</td>\n",
       "    </tr>\n",
       "  </tbody>\n",
       "</table>\n",
       "<p>2874 rows × 3 columns</p>\n",
       "</div>"
      ],
      "text/plain": [
       "          TRADE_DATE_SHORT  TRADE_ID        AMOUNT\n",
       "CUSTOMER                                          \n",
       "10869                   73        17   6876.551250\n",
       "10872                   86        19   7523.855620\n",
       "10884                   94        11   5002.217270\n",
       "10887                   47        19   5651.594660\n",
       "10893                   90         1    178.009070\n",
       "10896                   97        11   4586.569500\n",
       "10905                   45        23   6007.950000\n",
       "10908                   52        20   5802.324960\n",
       "10938                   38        59  17627.609200\n",
       "10944                  149         3   1447.554000\n",
       "11229                   39        36  12625.052020\n",
       "11232                   38        37   6497.309050\n",
       "11238                   74        15   5830.042070\n",
       "11256                   40        27  12860.945080\n",
       "11301                   62        13   3542.340790\n",
       "11355                   41        18   8338.449920\n",
       "11430                   80         8   2861.958000\n",
       "11532                   13        49   5061.199000\n",
       "12198                   93         8    999.204650\n",
       "12252                   83         5   2500.000000\n",
       "12534                  124         2    923.922000\n",
       "12720                   95        13   4443.680000\n",
       "12729                   54        44  14402.862330\n",
       "12969                   69        36   5273.826630\n",
       "13227                   68       102   1015.679000\n",
       "13290                   61         6   3964.647994\n",
       "13449                  200         2    965.244000\n",
       "13893                   96        11   2493.250770\n",
       "14094                   27        23   5408.332740\n",
       "14235                  178        13   1000.000000\n",
       "...                    ...       ...           ...\n",
       "130347                 188         1    323.301000\n",
       "130350                  10         5     96.010000\n",
       "130353                  13         3   1290.830000\n",
       "130389                  16         5    180.934000\n",
       "130392                  16         3    290.061000\n",
       "130404                  16         2    480.000000\n",
       "130407                  13         7   1294.839000\n",
       "130416                  16         1    297.675000\n",
       "130443                  10         5   2839.496000\n",
       "130449                  17         1    400.005000\n",
       "130458                  32        15    739.950000\n",
       "130575                  12         7    100.000000\n",
       "130590                  12         1    380.133000\n",
       "130653                  11         1    157.584000\n",
       "130668                  11         5    240.440000\n",
       "130674                  11         2    122.610000\n",
       "130776                  10         2     98.999000\n",
       "130803                   9         1    100.000000\n",
       "130806                   9         1      1.507000\n",
       "130887                   9         2    200.000000\n",
       "130905                   9         1     25.180000\n",
       "131001                  37         3    298.319000\n",
       "131019                  23        15  10400.831000\n",
       "131028                   9         4   3979.512000\n",
       "131052                   6         4   1500.000000\n",
       "131070                   6         4    213.322000\n",
       "131109                   5         5   1500.000000\n",
       "131115                  23         1    300.300000\n",
       "131118                   6         3    744.271000\n",
       "131142                   5         1     13.275000\n",
       "\n",
       "[2874 rows x 3 columns]"
      ]
     },
     "execution_count": 91,
     "metadata": {},
     "output_type": "execute_result"
    }
   ],
   "source": [
    "df.groupby('CUSTOMER').agg({'TRADE_DATE_SHORT': lambda x: (now - x.max()).days, 'TRADE_ID': lambda x: len(x), 'AMOUNT': lambda x: x.sum()})"
   ]
  },
  {
   "cell_type": "code",
   "execution_count": 92,
   "metadata": {},
   "outputs": [],
   "source": [
    "rfmTable = df.groupby('CUSTOMER').agg({'TRADE_DATE_SHORT': lambda x: (now - x.max()).days, 'TRADE_ID': lambda x: len(x), 'AMOUNT': lambda x: x.sum()})"
   ]
  },
  {
   "cell_type": "code",
   "execution_count": 93,
   "metadata": {},
   "outputs": [],
   "source": [
    "rfmTable['TRADE_DATE_SHORT'] = rfmTable['TRADE_DATE_SHORT'].astype(int)\n",
    "rfmTable['AMOUNT'] = rfmTable['AMOUNT'].astype(int)"
   ]
  },
  {
   "cell_type": "code",
   "execution_count": 94,
   "metadata": {},
   "outputs": [
    {
     "data": {
      "text/html": [
       "<div>\n",
       "<style scoped>\n",
       "    .dataframe tbody tr th:only-of-type {\n",
       "        vertical-align: middle;\n",
       "    }\n",
       "\n",
       "    .dataframe tbody tr th {\n",
       "        vertical-align: top;\n",
       "    }\n",
       "\n",
       "    .dataframe thead th {\n",
       "        text-align: right;\n",
       "    }\n",
       "</style>\n",
       "<table border=\"1\" class=\"dataframe\">\n",
       "  <thead>\n",
       "    <tr style=\"text-align: right;\">\n",
       "      <th></th>\n",
       "      <th>TRADE_DATE_SHORT</th>\n",
       "      <th>TRADE_ID</th>\n",
       "      <th>AMOUNT</th>\n",
       "    </tr>\n",
       "    <tr>\n",
       "      <th>CUSTOMER</th>\n",
       "      <th></th>\n",
       "      <th></th>\n",
       "      <th></th>\n",
       "    </tr>\n",
       "  </thead>\n",
       "  <tbody>\n",
       "    <tr>\n",
       "      <th>10869</th>\n",
       "      <td>73</td>\n",
       "      <td>17</td>\n",
       "      <td>6876</td>\n",
       "    </tr>\n",
       "    <tr>\n",
       "      <th>10872</th>\n",
       "      <td>86</td>\n",
       "      <td>19</td>\n",
       "      <td>7523</td>\n",
       "    </tr>\n",
       "    <tr>\n",
       "      <th>10884</th>\n",
       "      <td>94</td>\n",
       "      <td>11</td>\n",
       "      <td>5002</td>\n",
       "    </tr>\n",
       "    <tr>\n",
       "      <th>10887</th>\n",
       "      <td>47</td>\n",
       "      <td>19</td>\n",
       "      <td>5651</td>\n",
       "    </tr>\n",
       "    <tr>\n",
       "      <th>10893</th>\n",
       "      <td>90</td>\n",
       "      <td>1</td>\n",
       "      <td>178</td>\n",
       "    </tr>\n",
       "  </tbody>\n",
       "</table>\n",
       "</div>"
      ],
      "text/plain": [
       "          TRADE_DATE_SHORT  TRADE_ID  AMOUNT\n",
       "CUSTOMER                                    \n",
       "10869                   73        17    6876\n",
       "10872                   86        19    7523\n",
       "10884                   94        11    5002\n",
       "10887                   47        19    5651\n",
       "10893                   90         1     178"
      ]
     },
     "execution_count": 94,
     "metadata": {},
     "output_type": "execute_result"
    }
   ],
   "source": [
    "rfmTable.head()"
   ]
  },
  {
   "cell_type": "code",
   "execution_count": 95,
   "metadata": {},
   "outputs": [
    {
     "data": {
      "text/plain": [
       "175028"
      ]
     },
     "execution_count": 95,
     "metadata": {},
     "output_type": "execute_result"
    }
   ],
   "source": [
    "rfmTable.AMOUNT.max()"
   ]
  },
  {
   "cell_type": "code",
   "execution_count": 96,
   "metadata": {},
   "outputs": [
    {
     "data": {
      "text/html": [
       "<div>\n",
       "<style scoped>\n",
       "    .dataframe tbody tr th:only-of-type {\n",
       "        vertical-align: middle;\n",
       "    }\n",
       "\n",
       "    .dataframe tbody tr th {\n",
       "        vertical-align: top;\n",
       "    }\n",
       "\n",
       "    .dataframe thead th {\n",
       "        text-align: right;\n",
       "    }\n",
       "</style>\n",
       "<table border=\"1\" class=\"dataframe\">\n",
       "  <thead>\n",
       "    <tr style=\"text-align: right;\">\n",
       "      <th></th>\n",
       "      <th>RECENCY</th>\n",
       "      <th>FREQUENCY</th>\n",
       "      <th>MONETARY_VALUE</th>\n",
       "    </tr>\n",
       "    <tr>\n",
       "      <th>CUSTOMER</th>\n",
       "      <th></th>\n",
       "      <th></th>\n",
       "      <th></th>\n",
       "    </tr>\n",
       "  </thead>\n",
       "  <tbody>\n",
       "    <tr>\n",
       "      <th>10869</th>\n",
       "      <td>73</td>\n",
       "      <td>17</td>\n",
       "      <td>6876</td>\n",
       "    </tr>\n",
       "    <tr>\n",
       "      <th>10872</th>\n",
       "      <td>86</td>\n",
       "      <td>19</td>\n",
       "      <td>7523</td>\n",
       "    </tr>\n",
       "    <tr>\n",
       "      <th>10884</th>\n",
       "      <td>94</td>\n",
       "      <td>11</td>\n",
       "      <td>5002</td>\n",
       "    </tr>\n",
       "    <tr>\n",
       "      <th>10887</th>\n",
       "      <td>47</td>\n",
       "      <td>19</td>\n",
       "      <td>5651</td>\n",
       "    </tr>\n",
       "    <tr>\n",
       "      <th>10893</th>\n",
       "      <td>90</td>\n",
       "      <td>1</td>\n",
       "      <td>178</td>\n",
       "    </tr>\n",
       "  </tbody>\n",
       "</table>\n",
       "</div>"
      ],
      "text/plain": [
       "          RECENCY  FREQUENCY  MONETARY_VALUE\n",
       "CUSTOMER                                    \n",
       "10869          73         17            6876\n",
       "10872          86         19            7523\n",
       "10884          94         11            5002\n",
       "10887          47         19            5651\n",
       "10893          90          1             178"
      ]
     },
     "execution_count": 96,
     "metadata": {},
     "output_type": "execute_result"
    }
   ],
   "source": [
    "rfmTable.rename(columns={'TRADE_DATE_SHORT': 'RECENCY', \n",
    "                         'TRADE_ID': 'FREQUENCY', \n",
    "                         'AMOUNT': 'MONETARY_VALUE'}, inplace=True)\n",
    "rfmTable.head()"
   ]
  },
  {
   "cell_type": "markdown",
   "metadata": {},
   "source": [
    "## RFM variables ploting"
   ]
  },
  {
   "cell_type": "code",
   "execution_count": 98,
   "metadata": {},
   "outputs": [
    {
     "data": {
      "image/png": "[encoded data removed]",
      "text/plain": [
       "<Figure size 2160x720 with 1 Axes>"
      ]
     },
     "metadata": {
      "needs_background": "light"
     },
     "output_type": "display_data"
    }
   ],
   "source": [
    "plt.figure(figsize=(30,10))\n",
    "plt.hist(rfmTable.RECENCY, 1000, color='red')\n",
    "plt.title('RECENCIA')\n",
    "plt.xlabel('Rango RECENCIA',size=20)\n",
    "plt.ylabel('Cantidad',size=20)\n",
    "plt.show()"
   ]
  },
  {
   "cell_type": "code",
   "execution_count": 100,
   "metadata": {},
   "outputs": [
    {
     "data": {
      "image/png": "[encoded data removed]",
      "text/plain": [
       "<Figure size 2160x720 with 1 Axes>"
      ]
     },
     "metadata": {
      "needs_background": "light"
     },
     "output_type": "display_data"
    }
   ],
   "source": [
    "plt.figure(figsize=(30,10))\n",
    "plt.hist(rfmTable.FREQUENCY, 1000, color='yellow')\n",
    "plt.title('FRECUENCIA')\n",
    "plt.xlabel('Rango FRECUENCIA',size=20)\n",
    "plt.ylabel('Cantidad',size=20)\n",
    "plt.show()"
   ]
  },
  {
   "cell_type": "code",
   "execution_count": 101,
   "metadata": {},
   "outputs": [
    {
     "data": {
      "image/png": "[encoded data removed]",
      "text/plain": [
       "<Figure size 2160x720 with 1 Axes>"
      ]
     },
     "metadata": {
      "needs_background": "light"
     },
     "output_type": "display_data"
    }
   ],
   "source": [
    "plt.figure(figsize=(30,10))\n",
    "plt.hist(rfmTable.MONETARY_VALUE, 1000, color='blue')\n",
    "plt.title('VALOR MONETARIO')\n",
    "plt.xlabel('Rango VALOR MONETARIO',size=20)\n",
    "plt.ylabel('Cantidad',size=20)\n",
    "plt.show()"
   ]
  },
  {
   "cell_type": "code",
   "execution_count": 102,
   "metadata": {},
   "outputs": [
    {
     "data": {
      "image/png": "[encoded data removed]",
      "text/plain": [
       "<Figure size 1440x720 with 6 Axes>"
      ]
     },
     "metadata": {
      "needs_background": "light"
     },
     "output_type": "display_data"
    }
   ],
   "source": [
    "figure, axes_array = plt.subplots(2,3) #Nos determina cuantos \"subplots\" aqui 2x2 = 4\n",
    "figure.set_size_inches(20,10) #tamaño de cada subplot\n",
    "axes_array[0,0].hist(rfmTable.RECENCY, 500, color = 'red')\n",
    "axes_array[0, 0].set_title('RECENCY')\n",
    "axes_array[0,1].hist(rfmTable.FREQUENCY, 500, color = 'yellow')\n",
    "axes_array[0, 1].set_title('FREQUENCY')\n",
    "axes_array[0,2].hist(rfmTable.MONETARY_VALUE, 500, color = 'blue')\n",
    "axes_array[0, 2].set_title('MONETARY_VALUE')\n",
    "axes_array[1,0].scatter(rfmTable.MONETARY_VALUE, rfmTable.FREQUENCY, c='green')\n",
    "axes_array[1, 0].set_title('FREQUENCY-MONETARY_VALUE')\n",
    "axes_array[1,1].scatter(rfmTable.RECENCY, rfmTable.MONETARY_VALUE, c='purple')\n",
    "axes_array[1, 1].set_title('MONETARY_VALUE-RECENCY')\n",
    "axes_array[1,2].scatter(rfmTable.RECENCY, rfmTable.FREQUENCY, c='orange')\n",
    "axes_array[1, 2].set_title('FREQUENCY-RECENCY')\n",
    "\n",
    "\n",
    "plt.show()"
   ]
  },
  {
   "cell_type": "markdown",
   "metadata": {},
   "source": [
    "## Clusterizacion de clientes (Sin standarizar RECENCY)"
   ]
  },
  {
   "cell_type": "code",
   "execution_count": 103,
   "metadata": {},
   "outputs": [
    {
     "name": "stderr",
     "output_type": "stream",
     "text": [
      "C:\\Users\\jalvarez\\AppData\\Local\\Continuum\\anaconda3\\lib\\site-packages\\sklearn\\utils\\validation.py:595: DataConversionWarning: Data with input dtype int64 was converted to float64 by StandardScaler.\n",
      "  warnings.warn(msg, DataConversionWarning)\n",
      "C:\\Users\\jalvarez\\AppData\\Local\\Continuum\\anaconda3\\lib\\site-packages\\sklearn\\utils\\validation.py:595: DataConversionWarning: Data with input dtype int64 was converted to float64 by StandardScaler.\n",
      "  warnings.warn(msg, DataConversionWarning)\n"
     ]
    }
   ],
   "source": [
    "from sklearn.preprocessing import StandardScaler\n",
    "\n",
    "X = np.array(rfmTable[['RECENCY','FREQUENCY','MONETARY_VALUE']])\n",
    "x = StandardScaler().fit_transform(X)"
   ]
  },
  {
   "cell_type": "code",
   "execution_count": 104,
   "metadata": {},
   "outputs": [
    {
     "data": {
      "image/png": "[encoded data removed]",
      "text/plain": [
       "<Figure size 540x540 with 12 Axes>"
      ]
     },
     "metadata": {},
     "output_type": "display_data"
    }
   ],
   "source": [
    "import seaborn as sb\n",
    "from sklearn.cluster import KMeans\n",
    "from sklearn.metrics import pairwise_distances_argmin_min  #metodo de calculo al centoide. Es la \"tipica\"\n",
    "from sklearn.preprocessing import scale #para transformar datos.\n",
    "\n",
    "%matplotlib inline\n",
    "from mpl_toolkits.mplot3d import Axes3D\n",
    "plt.rcParams['figure.figsize'] = (16, 9)\n",
    "plt.style.use('ggplot')\n",
    "\n",
    "\n",
    "X = np.array(rfmTable[['RECENCY','FREQUENCY','MONETARY_VALUE']])\n",
    "X.shape\n",
    "\n",
    "\n",
    "sb.pairplot(pd.DataFrame(X))\n",
    "plt.show()\n",
    "#Buscamos en numero de clusters donde se produce el codo\n",
    "Nc = range(2, 20)"
   ]
  },
  {
   "cell_type": "code",
   "execution_count": 105,
   "metadata": {},
   "outputs": [],
   "source": [
    "wcss = []\n",
    "for i in Nc:\n",
    "    kmeans = KMeans(n_clusters = i, init = 'k-means++', random_state = 42)\n",
    "    kmeans.fit(x)\n",
    "    wcss.append(kmeans.inertia_)"
   ]
  },
  {
   "cell_type": "code",
   "execution_count": 106,
   "metadata": {},
   "outputs": [
    {
     "data": {
      "image/png": "[encoded data removed]",
      "text/plain": [
       "<Figure size 1152x648 with 1 Axes>"
      ]
     },
     "metadata": {},
     "output_type": "display_data"
    }
   ],
   "source": [
    "# Grafica de la suma de las distancias\n",
    "plt.plot(Nc, wcss)\n",
    "plt.title('The Elbow Method')\n",
    "plt.xlabel('Number of clusters')\n",
    "plt.ylabel('WCSS')\n",
    "plt.show()"
   ]
  },
  {
   "cell_type": "code",
   "execution_count": 107,
   "metadata": {},
   "outputs": [
    {
     "name": "stderr",
     "output_type": "stream",
     "text": [
      "C:\\Users\\jalvarez\\AppData\\Local\\Continuum\\anaconda3\\lib\\site-packages\\sklearn\\utils\\validation.py:595: DataConversionWarning: Data with input dtype int64 was converted to float64 by the scale function.\n",
      "  warnings.warn(msg, DataConversionWarning)\n",
      "C:\\Users\\jalvarez\\AppData\\Local\\Continuum\\anaconda3\\lib\\site-packages\\sklearn\\utils\\validation.py:595: DataConversionWarning: Data with input dtype int64 was converted to float64 by the scale function.\n",
      "  warnings.warn(msg, DataConversionWarning)\n"
     ]
    }
   ],
   "source": [
    "kmeans=KMeans(n_clusters=5,init = 'k-means++', random_state = 42).fit(scale(X))\n",
    "\n",
    "labels = kmeans.predict(scale(X))\n",
    "\n",
    "rfmTable['labels']=labels"
   ]
  },
  {
   "cell_type": "code",
   "execution_count": 108,
   "metadata": {},
   "outputs": [
    {
     "data": {
      "image/png": "[encoded data removed]",
      "text/plain": [
       "<Figure size 1440x720 with 6 Axes>"
      ]
     },
     "metadata": {},
     "output_type": "display_data"
    }
   ],
   "source": [
    "figure, axes_array = plt.subplots(2,3) #Nos determina cuantos \"subplots\" aqui 2x2 = 4\n",
    "figure.set_size_inches(20,10) #tamaño de cada subplot\n",
    "axes_array[0,0].hist(rfmTable.RECENCY, 500, color = 'red')\n",
    "axes_array[0, 0].set_title('RECENCY')\n",
    "axes_array[0,1].hist(rfmTable.FREQUENCY, 500, color = 'yellow')\n",
    "axes_array[0, 1].set_title('FREQUENCY')\n",
    "axes_array[0,2].hist(rfmTable.MONETARY_VALUE, 500, color = 'blue')\n",
    "axes_array[0, 2].set_title('MONETARY_VALUE')\n",
    "axes_array[1,0].scatter(rfmTable.MONETARY_VALUE, rfmTable.FREQUENCY, c=rfmTable['labels'])\n",
    "axes_array[1, 0].set_title('FREQUENCY-MONETARY_VALUE')\n",
    "axes_array[1,1].scatter(rfmTable.RECENCY, rfmTable.MONETARY_VALUE,c=rfmTable['labels'])\n",
    "axes_array[1, 1].set_title('MONETARY_VALUE-RECENCY')\n",
    "axes_array[1,2].scatter(rfmTable.RECENCY, rfmTable.FREQUENCY, c=rfmTable['labels'])\n",
    "axes_array[1, 2].set_title('FREQUENCY-RECENCY')\n",
    "\n",
    "\n",
    "plt.show()"
   ]
  },
  {
   "cell_type": "code",
   "execution_count": null,
   "metadata": {},
   "outputs": [],
   "source": [
    "# fig = plt.figure()\n",
    "# ax = fig.add_subplot(111, projection='3d')\n",
    "# xs = rfmTable.RECENCY\n",
    "# ys = rfmTable.FREQUENCY\n",
    "# zs = rfmTable.MONETARY_VALUE\n",
    "# ax.scatter(xs, ys, zs, marker=m)\n",
    "\n",
    "# ax.set_xlabel('RECENCY')\n",
    "# ax.set_ylabel('FREQUENCY')\n",
    "# ax.set_zlabel('MONETARY_VALUE')\n",
    "\n",
    "# plt.show()"
   ]
  },
  {
   "cell_type": "markdown",
   "metadata": {},
   "source": [
    "## Normalizacion de la variable RECENCY\n",
    "Esta variable no responde a la misma distribucion que el resto"
   ]
  },
  {
   "cell_type": "code",
   "execution_count": 109,
   "metadata": {
    "scrolled": true
   },
   "outputs": [
    {
     "data": {
      "image/png": "[encoded data removed]",
      "text/plain": [
       "<Figure size 1152x648 with 1 Axes>"
      ]
     },
     "metadata": {},
     "output_type": "display_data"
    }
   ],
   "source": [
    "plt.hist(rfmTable.RECENCY.apply(np.log10),1000)\n",
    "plt.show()"
   ]
  },
  {
   "cell_type": "code",
   "execution_count": null,
   "metadata": {
    "scrolled": true
   },
   "outputs": [],
   "source": [
    "rfmTable.RECENCY.head()"
   ]
  },
  {
   "cell_type": "code",
   "execution_count": null,
   "metadata": {
    "scrolled": true
   },
   "outputs": [],
   "source": [
    "rfmTable.RECENCY.apply(np.log10)"
   ]
  },
  {
   "cell_type": "code",
   "execution_count": null,
   "metadata": {},
   "outputs": [],
   "source": []
  },
  {
   "cell_type": "code",
   "execution_count": null,
   "metadata": {},
   "outputs": [],
   "source": []
  },
  {
   "cell_type": "markdown",
   "metadata": {},
   "source": [
    "## Clusterizacion de clientes (Con estandarizacion de las variables)"
   ]
  },
  {
   "cell_type": "code",
   "execution_count": null,
   "metadata": {},
   "outputs": [],
   "source": []
  },
  {
   "cell_type": "code",
   "execution_count": null,
   "metadata": {},
   "outputs": [],
   "source": []
  },
  {
   "cell_type": "code",
   "execution_count": null,
   "metadata": {},
   "outputs": [],
   "source": []
  },
  {
   "cell_type": "code",
   "execution_count": null,
   "metadata": {},
   "outputs": [],
   "source": []
  },
  {
   "cell_type": "code",
   "execution_count": null,
   "metadata": {},
   "outputs": [],
   "source": []
  },
  {
   "cell_type": "code",
   "execution_count": null,
   "metadata": {},
   "outputs": [],
   "source": []
  },
  {
   "cell_type": "code",
   "execution_count": null,
   "metadata": {},
   "outputs": [],
   "source": []
  },
  {
   "cell_type": "code",
   "execution_count": null,
   "metadata": {},
   "outputs": [],
   "source": []
  },
  {
   "cell_type": "code",
   "execution_count": null,
   "metadata": {},
   "outputs": [],
   "source": []
  },
  {
   "cell_type": "code",
   "execution_count": null,
   "metadata": {},
   "outputs": [],
   "source": []
  },
  {
   "cell_type": "code",
   "execution_count": null,
   "metadata": {},
   "outputs": [],
   "source": []
  },
  {
   "cell_type": "code",
   "execution_count": null,
   "metadata": {},
   "outputs": [],
   "source": []
  },
  {
   "cell_type": "code",
   "execution_count": null,
   "metadata": {},
   "outputs": [],
   "source": []
  },
  {
   "cell_type": "code",
   "execution_count": null,
   "metadata": {},
   "outputs": [],
   "source": []
  },
  {
   "cell_type": "code",
   "execution_count": null,
   "metadata": {},
   "outputs": [],
   "source": []
  },
  {
   "cell_type": "code",
   "execution_count": null,
   "metadata": {},
   "outputs": [],
   "source": []
  },
  {
   "cell_type": "code",
   "execution_count": null,
   "metadata": {},
   "outputs": [],
   "source": []
  },
  {
   "cell_type": "code",
   "execution_count": null,
   "metadata": {},
   "outputs": [],
   "source": []
  },
  {
   "cell_type": "code",
   "execution_count": null,
   "metadata": {},
   "outputs": [],
   "source": []
  },
  {
   "cell_type": "code",
   "execution_count": null,
   "metadata": {},
   "outputs": [],
   "source": []
  },
  {
   "cell_type": "code",
   "execution_count": null,
   "metadata": {},
   "outputs": [],
   "source": []
  },
  {
   "cell_type": "code",
   "execution_count": null,
   "metadata": {},
   "outputs": [],
   "source": []
  },
  {
   "cell_type": "code",
   "execution_count": null,
   "metadata": {},
   "outputs": [],
   "source": []
  },
  {
   "cell_type": "code",
   "execution_count": null,
   "metadata": {},
   "outputs": [],
   "source": []
  },
  {
   "cell_type": "code",
   "execution_count": null,
   "metadata": {},
   "outputs": [],
   "source": []
  },
  {
   "cell_type": "code",
   "execution_count": null,
   "metadata": {},
   "outputs": [],
   "source": []
  }
 ],
 "metadata": {
  "kernelspec": {
   "display_name": "Python 3",
   "language": "python",
   "name": "python3"
  },
  "language_info": {
   "codemirror_mode": {
    "name": "ipython",
    "version": 3
   },
   "file_extension": ".py",
   "mimetype": "text/x-python",
   "name": "python",
   "nbconvert_exporter": "python",
   "pygments_lexer": "ipython3",
   "version": "3.7.1"
  }
 },
 "nbformat": 4,
 "nbformat_minor": 2
}
